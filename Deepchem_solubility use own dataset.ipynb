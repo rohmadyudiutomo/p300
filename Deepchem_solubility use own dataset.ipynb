{
  "nbformat": 4,
  "nbformat_minor": 0,
  "metadata": {
    "colab": {
      "name": "solubility.ipynb",
      "provenance": [],
      "collapsed_sections": [],
      "include_colab_link": true
    },
    "kernelspec": {
      "name": "python3",
      "display_name": "Python 3"
    },
    "accelerator": "GPU"
  },
  "cells": [
    {
      "cell_type": "markdown",
      "metadata": {
        "id": "view-in-github",
        "colab_type": "text"
      },
      "source": [
        "<a href=\"https://colab.research.google.com/github/rohmadyudiutomo/p300/blob/main/Deepchem_solubility%20use%20own%20dataset.ipynb\" target=\"_parent\"><img src=\"https://colab.research.google.com/assets/colab-badge.svg\" alt=\"Open In Colab\"/></a>"
      ]
    },
    {
      "cell_type": "markdown",
      "metadata": {
        "id": "_-Hkmq6woHCE"
      },
      "source": [
        "dPlease click below to open this notebook with colab.\n",
        "\n",
        "[![Open In Colab](https://colab.research.google.com/assets/colab-badge.svg)](https://colab.research.google.com/drive/1r3QAoLsI-k6se1EubeepUs8p0Bqvapb_?usp=sharing)\n",
        "\n",
        "The Deepchem and dataset setup below was taken from the official tutorial: [link ](https://github.com/deepchem/deepchem/blob/master/examples/tutorials/03_Modeling_Solubility.ipynb)"
      ]
    },
    {
      "cell_type": "code",
      "metadata": {
        "id": "3Y2I9ylVoGfN",
        "colab": {
          "base_uri": "https://localhost:8080/"
        },
        "outputId": "59201063-6d1d-449b-b3e2-7d33ce7fa1b1"
      },
      "source": [
        "# Installing conda\n",
        "!curl -Lo conda_installer.py https://raw.githubusercontent.com/deepchem/deepchem/master/scripts/colab_install.py\n",
        "import conda_installer\n",
        "conda_installer.install()\n",
        "!/root/miniconda/bin/conda info -e"
      ],
      "execution_count": 1,
      "outputs": [
        {
          "output_type": "stream",
          "text": [
            "  % Total    % Received % Xferd  Average Speed   Time    Time     Time  Current\n",
            "                                 Dload  Upload   Total   Spent    Left  Speed\n",
            "100  3490  100  3490    0     0  16540      0 --:--:-- --:--:-- --:--:-- 16540\n"
          ],
          "name": "stdout"
        },
        {
          "output_type": "stream",
          "text": [
            "add /root/miniconda/lib/python3.6/site-packages to PYTHONPATH\n",
            "python version: 3.6.9\n",
            "fetching installer from https://repo.continuum.io/miniconda/Miniconda3-latest-Linux-x86_64.sh\n",
            "done\n",
            "installing miniconda to /root/miniconda\n",
            "done\n",
            "installing rdkit, openmm, pdbfixer\n",
            "added omnia to channels\n",
            "added conda-forge to channels\n",
            "done\n",
            "conda packages installation finished!\n"
          ],
          "name": "stderr"
        },
        {
          "output_type": "stream",
          "text": [
            "# conda environments:\n",
            "#\n",
            "base                  *  /root/miniconda\n",
            "\n"
          ],
          "name": "stdout"
        }
      ]
    },
    {
      "cell_type": "code",
      "metadata": {
        "id": "PqG_49beo8uj",
        "colab": {
          "base_uri": "https://localhost:8080/",
          "height": 383
        },
        "outputId": "914f5436-0446-46bf-e7d8-039826c24055"
      },
      "source": [
        "# Installing Deepchem\n",
        "!pip install --pre deepchem\n",
        "import deepchem\n",
        "deepchem.__version__"
      ],
      "execution_count": 2,
      "outputs": [
        {
          "output_type": "stream",
          "text": [
            "Collecting deepchem\n",
            "\u001b[?25l  Downloading https://files.pythonhosted.org/packages/30/5c/ab3d2efc10f29b71e2b09d0ddc62a767c5f2ab0007914e673b8ff2c2a905/deepchem-2.4.0rc1.dev20201116174536.tar.gz (401kB)\n",
            "\r\u001b[K     |▉                               | 10kB 21.9MB/s eta 0:00:01\r\u001b[K     |█▋                              | 20kB 29.3MB/s eta 0:00:01\r\u001b[K     |██▌                             | 30kB 29.2MB/s eta 0:00:01\r\u001b[K     |███▎                            | 40kB 19.8MB/s eta 0:00:01\r\u001b[K     |████                            | 51kB 14.8MB/s eta 0:00:01\r\u001b[K     |█████                           | 61kB 15.7MB/s eta 0:00:01\r\u001b[K     |█████▊                          | 71kB 13.9MB/s eta 0:00:01\r\u001b[K     |██████▌                         | 81kB 15.3MB/s eta 0:00:01\r\u001b[K     |███████▍                        | 92kB 15.3MB/s eta 0:00:01\r\u001b[K     |████████▏                       | 102kB 13.6MB/s eta 0:00:01\r\u001b[K     |█████████                       | 112kB 13.6MB/s eta 0:00:01\r\u001b[K     |█████████▉                      | 122kB 13.6MB/s eta 0:00:01\r\u001b[K     |██████████▋                     | 133kB 13.6MB/s eta 0:00:01\r\u001b[K     |███████████▍                    | 143kB 13.6MB/s eta 0:00:01\r\u001b[K     |████████████▎                   | 153kB 13.6MB/s eta 0:00:01\r\u001b[K     |█████████████                   | 163kB 13.6MB/s eta 0:00:01\r\u001b[K     |█████████████▉                  | 174kB 13.6MB/s eta 0:00:01\r\u001b[K     |██████████████▊                 | 184kB 13.6MB/s eta 0:00:01\r\u001b[K     |███████████████▌                | 194kB 13.6MB/s eta 0:00:01\r\u001b[K     |████████████████▎               | 204kB 13.6MB/s eta 0:00:01\r\u001b[K     |█████████████████▏              | 215kB 13.6MB/s eta 0:00:01\r\u001b[K     |██████████████████              | 225kB 13.6MB/s eta 0:00:01\r\u001b[K     |██████████████████▊             | 235kB 13.6MB/s eta 0:00:01\r\u001b[K     |███████████████████▋            | 245kB 13.6MB/s eta 0:00:01\r\u001b[K     |████████████████████▍           | 256kB 13.6MB/s eta 0:00:01\r\u001b[K     |█████████████████████▏          | 266kB 13.6MB/s eta 0:00:01\r\u001b[K     |██████████████████████          | 276kB 13.6MB/s eta 0:00:01\r\u001b[K     |██████████████████████▉         | 286kB 13.6MB/s eta 0:00:01\r\u001b[K     |███████████████████████▊        | 296kB 13.6MB/s eta 0:00:01\r\u001b[K     |████████████████████████▌       | 307kB 13.6MB/s eta 0:00:01\r\u001b[K     |█████████████████████████▎      | 317kB 13.6MB/s eta 0:00:01\r\u001b[K     |██████████████████████████▏     | 327kB 13.6MB/s eta 0:00:01\r\u001b[K     |███████████████████████████     | 337kB 13.6MB/s eta 0:00:01\r\u001b[K     |███████████████████████████▊    | 348kB 13.6MB/s eta 0:00:01\r\u001b[K     |████████████████████████████▋   | 358kB 13.6MB/s eta 0:00:01\r\u001b[K     |█████████████████████████████▍  | 368kB 13.6MB/s eta 0:00:01\r\u001b[K     |██████████████████████████████▏ | 378kB 13.6MB/s eta 0:00:01\r\u001b[K     |███████████████████████████████ | 389kB 13.6MB/s eta 0:00:01\r\u001b[K     |███████████████████████████████▉| 399kB 13.6MB/s eta 0:00:01\r\u001b[K     |████████████████████████████████| 409kB 13.6MB/s \n",
            "\u001b[?25hRequirement already satisfied: joblib in /usr/local/lib/python3.6/dist-packages (from deepchem) (0.17.0)\n",
            "Requirement already satisfied: numpy in /usr/local/lib/python3.6/dist-packages (from deepchem) (1.18.5)\n",
            "Requirement already satisfied: pandas in /usr/local/lib/python3.6/dist-packages (from deepchem) (1.1.4)\n",
            "Requirement already satisfied: scikit-learn in /usr/local/lib/python3.6/dist-packages (from deepchem) (0.22.2.post1)\n",
            "Requirement already satisfied: scipy in /usr/local/lib/python3.6/dist-packages (from deepchem) (1.4.1)\n",
            "Requirement already satisfied: python-dateutil>=2.7.3 in /usr/local/lib/python3.6/dist-packages (from pandas->deepchem) (2.8.1)\n",
            "Requirement already satisfied: pytz>=2017.2 in /usr/local/lib/python3.6/dist-packages (from pandas->deepchem) (2018.9)\n",
            "Requirement already satisfied: six>=1.5 in /usr/local/lib/python3.6/dist-packages (from python-dateutil>=2.7.3->pandas->deepchem) (1.15.0)\n",
            "Building wheels for collected packages: deepchem\n",
            "  Building wheel for deepchem (setup.py) ... \u001b[?25l\u001b[?25hdone\n",
            "  Created wheel for deepchem: filename=deepchem-2.4.0rc1.dev20201118005902-cp36-none-any.whl size=516160 sha256=0045be64ec97d7b5b0194117c23d5724af88ddc5247d74e735aeda85f1bb24ec\n",
            "  Stored in directory: /root/.cache/pip/wheels/d0/62/46/62d0ff22abaf0778aa1ef94cde4282cb45fcb190f5cdd4ec75\n",
            "Successfully built deepchem\n",
            "Installing collected packages: deepchem\n",
            "Successfully installed deepchem-2.4.0rc1.dev20201118005902\n"
          ],
          "name": "stdout"
        },
        {
          "output_type": "execute_result",
          "data": {
            "application/vnd.google.colaboratory.intrinsic+json": {
              "type": "string"
            },
            "text/plain": [
              "'2.4.0-rc1.dev'"
            ]
          },
          "metadata": {
            "tags": []
          },
          "execution_count": 2
        }
      ]
    },
    {
      "cell_type": "code",
      "metadata": {
        "id": "eGgnMlfao_7c",
        "colab": {
          "base_uri": "https://localhost:8080/"
        },
        "outputId": "e001b59e-0feb-44e0-f92d-b702cae2b7ea"
      },
      "source": [
        "# Getting the delaney dataset\n",
        "!wget https://raw.githubusercontent.com/rohmadyudiutomo/p300/main/delaney-processed.csv\n",
        "from deepchem.utils.save import load_from_disk\n",
        "dataset_file= \"delaney-processed.csv\"\n",
        "\n",
        "# Loading the data from the CSV file\n",
        "loader = deepchem.data.CSVLoader(tasks=[\"measured log solubility in mols per litre\"], \n",
        "                                 smiles_field=\"smiles\", \n",
        "                                 featurizer=deepchem.feat.ConvMolFeaturizer())\n",
        "# Featurizing the dataset with ConvMolFeaturizer\n",
        "dataset = loader.featurize(dataset_file)"
      ],
      "execution_count": 16,
      "outputs": [
        {
          "output_type": "stream",
          "text": [
            "--2020-11-18 01:08:11--  https://raw.githubusercontent.com/rohmadyudiutomo/p300/main/delaney-processed.csv\n",
            "Resolving raw.githubusercontent.com (raw.githubusercontent.com)... 151.101.0.133, 151.101.64.133, 151.101.128.133, ...\n",
            "Connecting to raw.githubusercontent.com (raw.githubusercontent.com)|151.101.0.133|:443... connected.\n",
            "HTTP request sent, awaiting response... 200 OK\n",
            "Length: 96699 (94K) [text/plain]\n",
            "Saving to: ‘delaney-processed.csv.1’\n",
            "\n",
            "delaney-processed.c 100%[===================>]  94.43K  --.-KB/s    in 0.005s  \n",
            "\n",
            "2020-11-18 01:08:11 (18.1 MB/s) - ‘delaney-processed.csv.1’ saved [96699/96699]\n",
            "\n"
          ],
          "name": "stdout"
        },
        {
          "output_type": "stream",
          "text": [
            "smiles_field is deprecated and will be removed in a future version of DeepChem.Use feature_field instead.\n",
            "/usr/local/lib/python3.6/dist-packages/deepchem/data/data_loader.py:162: FutureWarning: featurize() is deprecated and has been renamed to create_dataset().featurize() will be removed in DeepChem 3.0\n",
            "  \"featurize() will be removed in DeepChem 3.0\", FutureWarning)\n"
          ],
          "name": "stderr"
        }
      ]
    },
    {
      "cell_type": "code",
      "metadata": {
        "id": "9xDbW2A4p0l8"
      },
      "source": [
        "    # Splitter splits the dataset \n",
        "    # In this case it's is an equivalent of train_test_split from sklearn\n",
        "    splitter = deepchem.splits.RandomSplitter()\n",
        "    # frac_test is 0.01 because we only use a train and valid as an example\n",
        "    train, valid, _ = splitter.train_valid_test_split(dataset,\n",
        "                                                      frac_train=0.7,\n",
        "                                                      frac_valid=0.29,\n",
        "                                                      frac_test=0.01)\n",
        "    # Normalizer will normalize y values in the dataset\n",
        "    normalizer = deepchem.trans.NormalizationTransformer(transform_y=True, \n",
        "                                                         dataset=train, \n",
        "                                                         move_mean=True)\n",
        "    train = normalizer.transform(train)\n",
        "    test = normalizer.transform(valid)"
      ],
      "execution_count": 17,
      "outputs": []
    },
    {
      "cell_type": "code",
      "metadata": {
        "id": "YRJfuytXJacS",
        "colab": {
          "base_uri": "https://localhost:8080/"
        },
        "outputId": "58597c9b-cba7-4695-ae52-4a30dc372d2a"
      },
      "source": [
        "print(f\"Size of the training data: {len(train.ids)}\")\n",
        "print(f\"Size of the validation data: {len(valid.ids)}\")\n",
        "print(test)"
      ],
      "execution_count": 18,
      "outputs": [
        {
          "output_type": "stream",
          "text": [
            "Size of the training data: 789\n",
            "Size of the validation data: 327\n",
            "<DiskDataset X.shape: (327,), y.shape: (327, 1), w.shape: (327, 1), ids: ['c1ccoc1' 'Nc2nc1[nH]cnc1c(=O)[nH]2 ' 'Oc1cccc(c1)N(=O)=O' ...\n",
            " 'COP(=O)(NC(C)=O)SC ' 'Oc1ccc(cc1)c2ccccc2' 'ClCc1ccccc1'], task_names: ['measured log solubility in mols per litre']>\n"
          ],
          "name": "stdout"
        }
      ]
    },
    {
      "cell_type": "code",
      "metadata": {
        "id": "6NKyzDA-JlXY"
      },
      "source": [
        "# GraphConvModel is a GNN model based on \n",
        "# Duvenaud, David K., et al. \"Convolutional networks on graphs for\n",
        "# learning molecular fingerprints.\"\n",
        "from deepchem.models import GraphConvModel\n",
        "graph_conv = GraphConvModel(1,\n",
        "                            batch_size=50,\n",
        "                            mode=\"regression\")\n",
        "# Defining metric. Closer to 1 is better\n",
        "metric = deepchem.metrics.Metric(deepchem.metrics.pearson_r2_score)\n"
      ],
      "execution_count": 19,
      "outputs": []
    },
    {
      "cell_type": "code",
      "metadata": {
        "id": "7HRwydQ0K34F",
        "colab": {
          "base_uri": "https://localhost:8080/"
        },
        "outputId": "c7032155-8238-4818-d086-6fd5369de67b"
      },
      "source": [
        "# Fitting the model\n",
        "graph_conv.fit(train, nb_epoch=20)"
      ],
      "execution_count": 20,
      "outputs": [
        {
          "output_type": "stream",
          "text": [
            "/usr/local/lib/python3.6/dist-packages/tensorflow/python/framework/indexed_slices.py:432: UserWarning: Converting sparse IndexedSlices to a dense Tensor of unknown shape. This may consume a large amount of memory.\n",
            "  \"Converting sparse IndexedSlices to a dense Tensor of unknown shape. \"\n"
          ],
          "name": "stderr"
        },
        {
          "output_type": "execute_result",
          "data": {
            "text/plain": [
              "0.10651574134826661"
            ]
          },
          "metadata": {
            "tags": []
          },
          "execution_count": 20
        }
      ]
    },
    {
      "cell_type": "code",
      "metadata": {
        "id": "rMrQHy7ELE1T",
        "colab": {
          "base_uri": "https://localhost:8080/"
        },
        "outputId": "922b52fe-bb48-40fe-f87b-1c4d1a1ca2f7"
      },
      "source": [
        "# Reversing the transformation and getting the metric scores on 2 datasets\n",
        "train_scores = graph_conv.evaluate(train, [metric], [normalizer])\n",
        "valid_scores = graph_conv.evaluate(valid, [metric], [normalizer])\n",
        "print(f\"Train Scores: {train_scores}\")\n",
        "print(f\"Validation Scores: {valid_scores}\")"
      ],
      "execution_count": 21,
      "outputs": [
        {
          "output_type": "stream",
          "text": [
            "Train Scores: {'pearson_r2_score': 0.8335385280554164}\n",
            "Validation Scores: {'pearson_r2_score': 0.7014367920584546}\n"
          ],
          "name": "stdout"
        }
      ]
    },
    {
      "cell_type": "code",
      "metadata": {
        "id": "a-DaEXwJ4PMb"
      },
      "source": [
        "smiles = ['O=C(CC(/C=C/C1=CC=C(O)C(O)=C1)=O)/C=C/C2=CC(OC)=C(O)C=C2',\n",
        "'O=C(CC(/C=C/C1=CC=C(O)C(O)=C1)=O)/C=C/C2=CC(OC(O)=O)=C(O)C=C2',\n",
        "'O=C(CC(/C=C/C1=CC=C(O)C(O)=C1)=O)/C=C/C2=CC(Br)=C(O)C=C2',\n",
        "'O=C(CC(/C=C/C1=CC=C(O)C(OC)=C1)=O)/C=C/C2=CC(OC(O)=O)=C(O)C=C2',\n",
        "'O=C(CC(/C=C/C1=CC=C(O)C(OC)=C1)=O)/C=C/C2=CC(Br)=C(O)C=C2',\n",
        "'O=C(CC(/C=C/C1=CC=C(O)C(Br)=C1)=O)/C=C/C2=CC(OC(O)=O)=C(O)C=C2',\n",
        "'O=C(/C(CCC/1)=C/C2=CC(OC)=C(O)C=C2)C1=C\\C3=CC=C(O)C(O)=C3',\n",
        "'O=C(/C(CCC/1)=C/C2=CC(OC(O)=O)=C(O)C=C2)C1=C\\C3=CC=C(O)C(O)=C3',\n",
        "'O=C(/C(CCC/1)=C/C2=CC(Br)=C(O)C=C2)C1=C\\C3=CC=C(O)C(O)=C3',\n",
        "'O=C(/C(CCC/1)=C/C2=CC(OC(O)=O)=C(O)C=C2)C1=C\\C3=CC=C(O)C(OC)=C3',\n",
        "'O=C(/C(CCC/1)=C/C2=CC(Br)=C(O)C=C2)C1=C\\C3=CC=C(O)C(OC)=C3',\n",
        "'O=C(/C(CCC/1)=C/C2=CC(OC(O)=O)=C(O)C=C2)C1=C\\C3=CC=C(O)C(Br)=C3']"
      ],
      "execution_count": 22,
      "outputs": []
    },
    {
      "cell_type": "code",
      "metadata": {
        "id": "uGPcvEBG4PpF",
        "outputId": "1d77ee14-92ae-453f-a7ab-8358823040c1",
        "colab": {
          "base_uri": "https://localhost:8080/"
        }
      },
      "source": [
        "from rdkit import Chem\n",
        "mols = [Chem.MolFromSmiles(s) for s in smiles]\n",
        "featurizer = deepchem.feat.ConvMolFeaturizer()\n",
        "x = featurizer.featurize(mols)\n",
        "\n",
        "predicted_solubility = graph_conv.predict_on_batch(x)\n",
        "predicted_solubility"
      ],
      "execution_count": 23,
      "outputs": [
        {
          "output_type": "execute_result",
          "data": {
            "text/plain": [
              "array([[-0.29468927],\n",
              "       [-0.05113898],\n",
              "       [-0.06638844],\n",
              "       [ 0.06888281],\n",
              "       [ 0.02574509],\n",
              "       [ 0.07853852],\n",
              "       [-0.4667117 ],\n",
              "       [-0.16995768],\n",
              "       [-0.09682725],\n",
              "       [-0.43664733],\n",
              "       [-0.2026019 ],\n",
              "       [-0.2934114 ]], dtype=float32)"
            ]
          },
          "metadata": {
            "tags": []
          },
          "execution_count": 23
        }
      ]
    },
    {
      "cell_type": "code",
      "metadata": {
        "id": "BgWMLmOO4Ups"
      },
      "source": [
        ""
      ],
      "execution_count": null,
      "outputs": []
    }
  ]
}