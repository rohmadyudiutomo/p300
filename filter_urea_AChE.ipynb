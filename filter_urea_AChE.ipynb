{
  "nbformat": 4,
  "nbformat_minor": 0,
  "metadata": {
    "colab": {
      "name": "filter urea AChE.ipynb",
      "provenance": [],
      "authorship_tag": "ABX9TyOFD/P952oW/w+7BC6ybmAW",
      "include_colab_link": true
    },
    "kernelspec": {
      "name": "python3",
      "display_name": "Python 3"
    }
  },
  "cells": [
    {
      "cell_type": "markdown",
      "metadata": {
        "id": "view-in-github",
        "colab_type": "text"
      },
      "source": [
        "<a href=\"https://colab.research.google.com/github/rohmadyudiutomo/p300/blob/main/filter_urea_AChE.ipynb\" target=\"_parent\"><img src=\"https://colab.research.google.com/assets/colab-badge.svg\" alt=\"Open In Colab\"/></a>"
      ]
    },
    {
      "cell_type": "code",
      "metadata": {
        "id": "HR8qFRwhk8ps",
        "colab": {
          "base_uri": "https://localhost:8080/"
        },
        "outputId": "17b37053-8dc6-4cce-e922-be5c12c20fd5"
      },
      "source": [
        "!wget https://raw.githubusercontent.com/rohmadyudiutomo/p300/main/AChE%20urea.csv"
      ],
      "execution_count": 1,
      "outputs": [
        {
          "output_type": "stream",
          "text": [
            "--2020-11-29 06:03:35--  https://raw.githubusercontent.com/rohmadyudiutomo/p300/main/AChE%20urea.csv\n",
            "Resolving raw.githubusercontent.com (raw.githubusercontent.com)... 151.101.0.133, 151.101.64.133, 151.101.128.133, ...\n",
            "Connecting to raw.githubusercontent.com (raw.githubusercontent.com)|151.101.0.133|:443... connected.\n",
            "HTTP request sent, awaiting response... 200 OK\n",
            "Length: 293903 (287K) [text/plain]\n",
            "Saving to: ‘AChE urea.csv’\n",
            "\n",
            "AChE urea.csv       100%[===================>] 287.01K  --.-KB/s    in 0.05s   \n",
            "\n",
            "2020-11-29 06:03:35 (5.54 MB/s) - ‘AChE urea.csv’ saved [293903/293903]\n",
            "\n"
          ],
          "name": "stdout"
        }
      ]
    },
    {
      "cell_type": "code",
      "metadata": {
        "colab": {
          "base_uri": "https://localhost:8080/"
        },
        "id": "ieX0-LGsmVrN",
        "outputId": "aef39dea-89c2-492f-de44-b7343cdaee24"
      },
      "source": [
        "# Install RDKit. \n",
        "!pip install kora\n",
        "import kora.install.rdkit"
      ],
      "execution_count": 2,
      "outputs": [
        {
          "output_type": "stream",
          "text": [
            "Collecting kora\n",
            "\u001b[?25l  Downloading https://files.pythonhosted.org/packages/55/e9/60b70219b513fce09cb839860689bc1421d31afe98da1517c81ff26fd741/kora-0.9.13-py3-none-any.whl (55kB)\n",
            "\u001b[K     |████████████████████████████████| 61kB 3.1MB/s \n",
            "\u001b[?25hCollecting fastcore\n",
            "\u001b[?25l  Downloading https://files.pythonhosted.org/packages/ba/0c/a08940a410b3c55b082578b7142e96afa1c8e3f39972b99366093bb4af59/fastcore-1.3.10-py3-none-any.whl (51kB)\n",
            "\u001b[K     |████████████████████████████████| 61kB 4.8MB/s \n",
            "\u001b[?25hRequirement already satisfied: ipython in /usr/local/lib/python3.6/dist-packages (from kora) (5.5.0)\n",
            "Requirement already satisfied: pip in /usr/local/lib/python3.6/dist-packages (from fastcore->kora) (19.3.1)\n",
            "Requirement already satisfied: packaging in /usr/local/lib/python3.6/dist-packages (from fastcore->kora) (20.4)\n",
            "Requirement already satisfied: simplegeneric>0.8 in /usr/local/lib/python3.6/dist-packages (from ipython->kora) (0.8.1)\n",
            "Requirement already satisfied: pexpect; sys_platform != \"win32\" in /usr/local/lib/python3.6/dist-packages (from ipython->kora) (4.8.0)\n",
            "Requirement already satisfied: pickleshare in /usr/local/lib/python3.6/dist-packages (from ipython->kora) (0.7.5)\n",
            "Requirement already satisfied: traitlets>=4.2 in /usr/local/lib/python3.6/dist-packages (from ipython->kora) (4.3.3)\n",
            "Requirement already satisfied: prompt-toolkit<2.0.0,>=1.0.4 in /usr/local/lib/python3.6/dist-packages (from ipython->kora) (1.0.18)\n",
            "Requirement already satisfied: decorator in /usr/local/lib/python3.6/dist-packages (from ipython->kora) (4.4.2)\n",
            "Requirement already satisfied: setuptools>=18.5 in /usr/local/lib/python3.6/dist-packages (from ipython->kora) (50.3.2)\n",
            "Requirement already satisfied: pygments in /usr/local/lib/python3.6/dist-packages (from ipython->kora) (2.6.1)\n",
            "Requirement already satisfied: six in /usr/local/lib/python3.6/dist-packages (from packaging->fastcore->kora) (1.15.0)\n",
            "Requirement already satisfied: pyparsing>=2.0.2 in /usr/local/lib/python3.6/dist-packages (from packaging->fastcore->kora) (2.4.7)\n",
            "Requirement already satisfied: ptyprocess>=0.5 in /usr/local/lib/python3.6/dist-packages (from pexpect; sys_platform != \"win32\"->ipython->kora) (0.6.0)\n",
            "Requirement already satisfied: ipython-genutils in /usr/local/lib/python3.6/dist-packages (from traitlets>=4.2->ipython->kora) (0.2.0)\n",
            "Requirement already satisfied: wcwidth in /usr/local/lib/python3.6/dist-packages (from prompt-toolkit<2.0.0,>=1.0.4->ipython->kora) (0.2.5)\n",
            "Installing collected packages: fastcore, kora\n",
            "Successfully installed fastcore-1.3.10 kora-0.9.13\n"
          ],
          "name": "stdout"
        }
      ]
    },
    {
      "cell_type": "code",
      "metadata": {
        "colab": {
          "base_uri": "https://localhost:8080/"
        },
        "id": "iiMpwwacmtm5",
        "outputId": "4f9e9691-dcfe-417f-ce40-f3ec37385e1b"
      },
      "source": [
        "!pip install pandas"
      ],
      "execution_count": 5,
      "outputs": [
        {
          "output_type": "stream",
          "text": [
            "Requirement already satisfied: pandas in /usr/local/lib/python3.6/dist-packages (1.1.4)\n",
            "Requirement already satisfied: numpy>=1.15.4 in /usr/local/lib/python3.6/dist-packages (from pandas) (1.18.5)\n",
            "Requirement already satisfied: pytz>=2017.2 in /usr/local/lib/python3.6/dist-packages (from pandas) (2018.9)\n",
            "Requirement already satisfied: python-dateutil>=2.7.3 in /usr/local/lib/python3.6/dist-packages (from pandas) (2.8.1)\n",
            "Requirement already satisfied: six>=1.5 in /usr/local/lib/python3.6/dist-packages (from python-dateutil>=2.7.3->pandas) (1.15.0)\n"
          ],
          "name": "stdout"
        }
      ]
    },
    {
      "cell_type": "code",
      "metadata": {
        "id": "V8p3OFnAmp3V"
      },
      "source": [
        "from rdkit import Chem\n",
        "from rdkit.Chem import Draw\n",
        "from rdkit.Chem.Draw import IPythonConsole\n",
        "from rdkit.Chem import Descriptors\n",
        "from rdkit.Chem import AllChem\n",
        "from rdkit import DataStructs\n",
        "from rdkit.Chem import PandasTools\n",
        "import numpy as np\n",
        "import pandas as pd"
      ],
      "execution_count": 13,
      "outputs": []
    },
    {
      "cell_type": "code",
      "metadata": {
        "colab": {
          "base_uri": "https://localhost:8080/",
          "height": 442
        },
        "id": "XtagMTC-nXST",
        "outputId": "27e2f56b-0ae9-4925-ec67-23cf1790745d"
      },
      "source": [
        "data = pd.read_csv('AChE urea.csv')\n",
        "print(list(data))\n",
        "data"
      ],
      "execution_count": 14,
      "outputs": [
        {
          "output_type": "stream",
          "text": [
            "['Molecule ChEMBL ID', 'Smiles', 'Standard Value', 'Document ChEMBL ID', 'Smiles (Molecule)']\n"
          ],
          "name": "stdout"
        },
        {
          "output_type": "execute_result",
          "data": {
            "text/html": [
              "<div>\n",
              "<style scoped>\n",
              "    .dataframe tbody tr th:only-of-type {\n",
              "        vertical-align: middle;\n",
              "    }\n",
              "\n",
              "    .dataframe tbody tr th {\n",
              "        vertical-align: top;\n",
              "    }\n",
              "\n",
              "    .dataframe thead th {\n",
              "        text-align: right;\n",
              "    }\n",
              "</style>\n",
              "<table border=\"1\" class=\"dataframe\">\n",
              "  <thead>\n",
              "    <tr style=\"text-align: right;\">\n",
              "      <th></th>\n",
              "      <th>Molecule ChEMBL ID</th>\n",
              "      <th>Smiles</th>\n",
              "      <th>Standard Value</th>\n",
              "      <th>Document ChEMBL ID</th>\n",
              "      <th>Smiles (Molecule)</th>\n",
              "    </tr>\n",
              "  </thead>\n",
              "  <tbody>\n",
              "    <tr>\n",
              "      <th>0</th>\n",
              "      <td>CHEMBL122983</td>\n",
              "      <td>C[C@H]1C(=O)N(C(=O)NCc2ccccc2)[C@@H]1Oc1ccc(C(...</td>\n",
              "      <td>100000.00</td>\n",
              "      <td>CHEMBL1130748</td>\n",
              "      <td>\\n     RDKit          2D\\n\\n 29 31  0  0  0  0...</td>\n",
              "    </tr>\n",
              "    <tr>\n",
              "      <th>1</th>\n",
              "      <td>CHEMBL3902949</td>\n",
              "      <td>CCN(C)C(=O)Nc1cccc(NC(=O)/C=C/c2ccc(O)c(O)c2)c1</td>\n",
              "      <td>16.40</td>\n",
              "      <td>CHEMBL3877280</td>\n",
              "      <td>\\n     RDKit          2D\\n\\n 26 27  0  0  0  0...</td>\n",
              "    </tr>\n",
              "    <tr>\n",
              "      <th>2</th>\n",
              "      <td>CHEMBL3785391</td>\n",
              "      <td>CN(C)C(=O)NC1CCc2cc(O)ccc2C1</td>\n",
              "      <td>1.33</td>\n",
              "      <td>CHEMBL3784977</td>\n",
              "      <td>\\n     RDKit          2D\\n\\n 17 18  0  0  0  0...</td>\n",
              "    </tr>\n",
              "    <tr>\n",
              "      <th>3</th>\n",
              "      <td>CHEMBL3785207</td>\n",
              "      <td>CN(C)C(=O)N[C@H]1CCc2ccc(O)cc2C1</td>\n",
              "      <td>103.30</td>\n",
              "      <td>CHEMBL3784977</td>\n",
              "      <td>\\n     RDKit          2D\\n\\n 17 18  0  0  0  0...</td>\n",
              "    </tr>\n",
              "    <tr>\n",
              "      <th>4</th>\n",
              "      <td>CHEMBL449941</td>\n",
              "      <td>CCN(CCCCCCN1CCN(CCCCCCN(CC)Cc2ccccc2OC)C1=O)Cc...</td>\n",
              "      <td>72.40</td>\n",
              "      <td>CHEMBL1152287</td>\n",
              "      <td>\\n     RDKit          2D\\n\\n 42 44  0  0  0  0...</td>\n",
              "    </tr>\n",
              "    <tr>\n",
              "      <th>...</th>\n",
              "      <td>...</td>\n",
              "      <td>...</td>\n",
              "      <td>...</td>\n",
              "      <td>...</td>\n",
              "      <td>...</td>\n",
              "    </tr>\n",
              "    <tr>\n",
              "      <th>137</th>\n",
              "      <td>CHEMBL3902949</td>\n",
              "      <td>CCN(C)C(=O)Nc1cccc(NC(=O)/C=C/c2ccc(O)c(O)c2)c1</td>\n",
              "      <td>18.37</td>\n",
              "      <td>CHEMBL3877280</td>\n",
              "      <td>\\n     RDKit          2D\\n\\n 26 27  0  0  0  0...</td>\n",
              "    </tr>\n",
              "    <tr>\n",
              "      <th>138</th>\n",
              "      <td>CHEMBL3786937</td>\n",
              "      <td>CN(C)C(=O)N[C@H]1CCc2c(O)cccc2C1</td>\n",
              "      <td>1.59</td>\n",
              "      <td>CHEMBL3784977</td>\n",
              "      <td>\\n     RDKit          2D\\n\\n 17 18  0  0  0  0...</td>\n",
              "    </tr>\n",
              "    <tr>\n",
              "      <th>139</th>\n",
              "      <td>CHEMBL4081013</td>\n",
              "      <td>NC(=O)Nc1nc(NCc2ccccc2)c2ccccc2n1</td>\n",
              "      <td>8300.00</td>\n",
              "      <td>CHEMBL4002588</td>\n",
              "      <td>\\n     RDKit          2D\\n\\n 22 24  0  0  0  0...</td>\n",
              "    </tr>\n",
              "    <tr>\n",
              "      <th>140</th>\n",
              "      <td>CHEMBL4070380</td>\n",
              "      <td>NC(=O)Nc1nc(NCCc2ccccc2)c2ccccc2n1</td>\n",
              "      <td>7900.00</td>\n",
              "      <td>CHEMBL4002588</td>\n",
              "      <td>\\n     RDKit          2D\\n\\n 23 25  0  0  0  0...</td>\n",
              "    </tr>\n",
              "    <tr>\n",
              "      <th>141</th>\n",
              "      <td>CHEMBL4099046</td>\n",
              "      <td>COc1ccc(CCNc2nc(NC(N)=O)nc3ccccc23)cc1OC</td>\n",
              "      <td>8700.00</td>\n",
              "      <td>CHEMBL4002588</td>\n",
              "      <td>\\n     RDKit          2D\\n\\n 27 29  0  0  0  0...</td>\n",
              "    </tr>\n",
              "  </tbody>\n",
              "</table>\n",
              "<p>142 rows × 5 columns</p>\n",
              "</div>"
            ],
            "text/plain": [
              "    Molecule ChEMBL ID  ...                                  Smiles (Molecule)\n",
              "0         CHEMBL122983  ...  \\n     RDKit          2D\\n\\n 29 31  0  0  0  0...\n",
              "1        CHEMBL3902949  ...  \\n     RDKit          2D\\n\\n 26 27  0  0  0  0...\n",
              "2        CHEMBL3785391  ...  \\n     RDKit          2D\\n\\n 17 18  0  0  0  0...\n",
              "3        CHEMBL3785207  ...  \\n     RDKit          2D\\n\\n 17 18  0  0  0  0...\n",
              "4         CHEMBL449941  ...  \\n     RDKit          2D\\n\\n 42 44  0  0  0  0...\n",
              "..                 ...  ...                                                ...\n",
              "137      CHEMBL3902949  ...  \\n     RDKit          2D\\n\\n 26 27  0  0  0  0...\n",
              "138      CHEMBL3786937  ...  \\n     RDKit          2D\\n\\n 17 18  0  0  0  0...\n",
              "139      CHEMBL4081013  ...  \\n     RDKit          2D\\n\\n 22 24  0  0  0  0...\n",
              "140      CHEMBL4070380  ...  \\n     RDKit          2D\\n\\n 23 25  0  0  0  0...\n",
              "141      CHEMBL4099046  ...  \\n     RDKit          2D\\n\\n 27 29  0  0  0  0...\n",
              "\n",
              "[142 rows x 5 columns]"
            ]
          },
          "metadata": {
            "tags": []
          },
          "execution_count": 14
        }
      ]
    },
    {
      "cell_type": "code",
      "metadata": {
        "colab": {
          "base_uri": "https://localhost:8080/",
          "height": 1000
        },
        "id": "BWeo-NOanqlq",
        "outputId": "eaa414fc-61f4-4f47-ecb7-a1c3b53e3afa"
      },
      "source": [
        "PandasTools.AddMoleculeColumnToFrame(data,'Smiles','Molecule')\n",
        "data"
      ],
      "execution_count": 15,
      "outputs": [
        {
          "output_type": "execute_result",
          "data": {
            "text/html": [
              "<div>\n",
              "<style scoped>\n",
              "    .dataframe tbody tr th:only-of-type {\n",
              "        vertical-align: middle;\n",
              "    }\n",
              "\n",
              "    .dataframe tbody tr th {\n",
              "        vertical-align: top;\n",
              "    }\n",
              "\n",
              "    .dataframe thead th {\n",
              "        text-align: right;\n",
              "    }\n",
              "</style>\n",
              "<table border=\"1\" class=\"dataframe\">\n",
              "  <thead>\n",
              "    <tr style=\"text-align: right;\">\n",
              "      <th></th>\n",
              "      <th>Molecule ChEMBL ID</th>\n",
              "      <th>Smiles</th>\n",
              "      <th>Standard Value</th>\n",
              "      <th>Document ChEMBL ID</th>\n",
              "      <th>Smiles (Molecule)</th>\n",
              "      <th>Molecule</th>\n",
              "    </tr>\n",
              "  </thead>\n",
              "  <tbody>\n",
              "    <tr>\n",
              "      <th>0</th>\n",
              "      <td>CHEMBL122983</td>\n",
              "      <td>C[C@H]1C(=O)N(C(=O)NCc2ccccc2)[C@@H]1Oc1ccc(C(...</td>\n",
              "      <td>100000.00</td>\n",
              "      <td>CHEMBL1130748</td>\n",
              "      <td>\\n     RDKit          2D\\n\\n 29 31  0  0  0  0...</td>\n",
              "      <td><img data-content=\"rdkit/molecule\" src=\"data:image/png;base64,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\" alt=\"Mol\"/></td>\n",
              "    </tr>\n",
              "    <tr>\n",
              "      <th>1</th>\n",
              "      <td>CHEMBL3902949</td>\n",
              "      <td>CCN(C)C(=O)Nc1cccc(NC(=O)/C=C/c2ccc(O)c(O)c2)c1</td>\n",
              "      <td>16.40</td>\n",
              "      <td>CHEMBL3877280</td>\n",
              "      <td>\\n     RDKit          2D\\n\\n 26 27  0  0  0  0...</td>\n",
              "      <td><img data-content=\"rdkit/molecule\" src=\"data:image/png;base64,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\" alt=\"Mol\"/></td>\n",
              "    </tr>\n",
              "    <tr>\n",
              "      <th>2</th>\n",
              "      <td>CHEMBL3785391</td>\n",
              "      <td>CN(C)C(=O)NC1CCc2cc(O)ccc2C1</td>\n",
              "      <td>1.33</td>\n",
              "      <td>CHEMBL3784977</td>\n",
              "      <td>\\n     RDKit          2D\\n\\n 17 18  0  0  0  0...</td>\n",
              "      <td><img data-content=\"rdkit/molecule\" src=\"data:image/png;base64,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\" alt=\"Mol\"/></td>\n",
              "    </tr>\n",
              "    <tr>\n",
              "      <th>3</th>\n",
              "      <td>CHEMBL3785207</td>\n",
              "      <td>CN(C)C(=O)N[C@H]1CCc2ccc(O)cc2C1</td>\n",
              "      <td>103.30</td>\n",
              "      <td>CHEMBL3784977</td>\n",
              "      <td>\\n     RDKit          2D\\n\\n 17 18  0  0  0  0...</td>\n",
              "      <td><img data-content=\"rdkit/molecule\" src=\"data:image/png;base64,iVBORw0KGgoAAAANSUhEUgAAAMgAAADICAIAAAAiOjnJAAAABmJLR0QA/wD/AP+gvaeTAAASp0lEQVR4nO3de1SUdRoH8GdmlItyCZSriYiBkELIRU2UVFCTsJOuKK5Ru5XYRcbWrfUcy8bNPbt2Oevg0TXP2T2F2qmDIEnljTDUFCkR22hVUJC4KKAGA3Jnnv3jR9PIZbi9zzuz7vM5/OGMM+/vN7zfeS+/3/s+KBARGJOa0twdYPcnDhYjwcFiJDhYjAQHi5HgYDESHCxGgoPFSHCwGAkOFiPBwWIkOFiMBAeLkeBgMRIcLEaCg8VIcLAYCQ4WI8HBYiQ4WIwEB4uR4GAxEhwsRoKDxUhwsBgJDhYjwcFiJDhYjAQHi5HgYDESHCxGgoPFSHCwGAkOFiPBwWIkOFiMBAeLkeBgMRIcLEaCg8VIcLAYCQ4WI8HBYiQ4WIwEB4uR4GAxEhwsRoKDxUhwsBgJDhYjwcFiJDhYjAQHi5HgYDESHCxGgoPFSHCwGAkOFiPBwWIkOFiMBAeLkeBgMRIcLEaCg8VIcLAYCQ4WI8HBYiQ4WIzECHN34D5x4cKF9vZ2lUoVFhZm7r5YBN5iDYter//8888XLFgQGhq6evXq6dOnr1+/vrW11dz9sgDIhkSn02m12kmTJolfo6OjY1RUlJWVFQCEhIQUFRWZu4NmxsEatMrKSo1G4+TkJCLl4+Ozbdu2n3/+GRHz8/N9fX0BwM7Obu/evebuqTlZXrBu3MCVK3HtWnz3XXN3pbvz588nJCSMGNF1YBoREZGamtrR0WH8Gp1O9/TTT4sXJCQkNDQ00PVHr9ffuHGjpaWFrokhs7xgbd2K2dmIiEuWIOVaGbiOjo7MzMxZs2aJuFhZWcXFxZ07d87EW1JSUuzs7ADA29s7NzdX8i61tLSkpKRMnTo1ICDA29tbq9VK3sQwWV6wEhNRHKAkJuLVq+btS11dnVar9fLyEpFycXHZuHFjeXn5QN57+fLladOmAcDIkSM1Gk1nZ6ckXaqsrNy0adPYsWNFlx544AHxj+XLl4vdsYWwvGBt3YpZWYiITz6Jd++aqxfFxcVqtXr06NFitfn5+Wm12ruD7E9LS4tarVYoFACwcOHCmzdvDqdLFy5cSExMtLGxEV0KDQ1NSUlpa2tLT08XB3xeXl6nT58eThMSsrBg6XR48ybGx+Patbh9u1m6cPr06bi4OJVKBQAKhSI6OjozM1Ov1w95gYcOHRozZgwAuLm5HTt2bLBv7+zszMzMjI6OFnlSKpWxsbFZ4rv3i7KysoiICAAYMWKEhFvH4bCwYLm4oK0t3rqFiJibi2+8gcePy9Z4bm7u1KlTxfobNWrUiy++eOnSJUmWXF5eHhkZKWKhVqvb2toG8i6dTrdnz57JkyeLLjk4OKjV6uvXr/f64vb2do1Go1QqAWDevHmVlZWS9HzILClYzc2oUKC1NYrNw7vvIgD+8Y/yNF5bW5uUlKRUKt3d3TUazS0Rbul0dHRoNBqxIZw5c2ZJSYmJF5eUlGzcuNEwojFp0iTDiIag0+l27NiRk5PT7Y3Z2dkeHh7icPDLL7+U9iMMiiUFq7gYAdDHp+vh+vUIgH//uzyN5+bmAkBAQMAANydDk5OTM27cODGgmpqa2vMF/Y5oVFVVaTQaZ2dnAFiwYEHPJdTU1CxevFjsx9VqdWtrK93HMcGSgvX11wiAkZFdD3/zGwTA3n77FA4cOAAAy5Yto26otrZ2yZIlhoGupqYmRGxra0tNTX300UdNjGicOXMmLi7OkLnHHnssIyOj1yb0er1WqxXTAGFhYcXFxdQfqidLCta+fQiAv/1t18MZMxAAz56Vp/Ht27cDgFqtlqEtseKtra0BwN/ff/369Z6eniIurq6ub731lvH5ozh47zaKNpCxsW+//VbMONnb2+/fv5/yA/XCkoL1t78hAP7pT10Px41DAPzpJ3kaf+211wDgnXfekac5RMzPz/fz81MoFOLAS4xoiA2YUF9fbzyK5ujoqFarBziKZljCqlWrDFvHxsZGgs/RO0sK1rp1CIDJyYiIHR2oUqFKhe3t8jQeHx8PAB9//LE8zQm1tbUiWMfvPfntNorm6+s7hFE0g5SUFLEof3//goICKTreP0sK1lNPIQCmpyMi/vQTAuC4cbI1Pnv2bAA4efKkbC0i4rVr18S0j/EzTzzxhBg1UCgUjz/++LFjx4YziiZcunTpkUceAQAbGxutVjv8BfbLkoIVFoYAmJeHiHj2LALgjBmyNe7t7Q0A165dk61FRDx58iQAzJ492/DMnTt3Ro8ebW1tnZCQUFhYKGFbzc3NarVabAKfeuqp27dvS7jwnizoCtJb9vYO3t4jx41TAEBFBQDAgw/K07Rer6+qqlIoFGIsQDYVFRUA8KDRx3RyckpPTw8LCxOD9RKysbFJTk6eM2fOmjVrPvvss/Hjx+/YsUPaJoxZyhWk7e3tbidPjq6o0Lu7A0Da7dt/Dg/PDgqSp/Wampq2tjYXFxdxpiabnsECgEWLFkmeKoPly5cXFBQ4OTllZGRcvXqVqBWwnGBVVlbq9XpPT09xinTu6tUt332X/8uEK7VeV7AMKisrAUDmzaQ4pKuoqDCM7FOwlGB1W7Uyr2lzBUu2duvr6/V6vfj33bt36+rqbG1t6baLYLHBEl9lDpZU4uLirK2tT5w4AQDl5eUyNGoqWA0NDaRtGzPvFsssuySQ8WNWVFR0dHS4ubnJ1mifwWppaYmMjHzmmWcaGxtJeyAYr1r5z9HMssXq6Oiorq5WqVTu7u7UbRl/QDMH68KFC8XFxfv27QsLC7t48SJpJ+DeTyv/OZpZglVVVdXZ2enh4WGYVyZSX1/f0NBgb2/v6OgIch1m9BmsWbNm5efnBwcHX7lyZebMmcnJyYhI1w/5v1J9tX7/Ndrr8Sv13sDUMdbkyZPPnTsnrnh89dVXxXAtUT/EhxefVubVjIhmOcYyV7DMvCsUrK2tk5OTMzIyxowZk5mZGRwcfOrUKYp+LFu2LDg4eP78+Zs2bfrwww9BxmDdvn27ubnZ2dnZMOkrj/s7WAOdKywrKxPTtCqVavv2rHtv0hyWoqKiV155RdyFJ5YPAJGRkd9//71kbZhUUFAAAEFBQfI0Z7BhwwYAeO+996gb2rJlCwBs3rxZPHRxcQGAYd4y1K+BjmN5eXnl5ORoNBpPz5lvvx0VFQWVlcPN9DfffLNixYqAgIBdu3Y1NjZGRERkZmYePXrUw8Pj1KlT0dHRR44cGW4bA3DfD2IZ7+hbWlpu3bplZWXl6upK2+pgk5iT0+zpiQA4dixmZg4ly62trampqdOnTxcdEDP5P/zwg+EF1dXVcl61vXv3bgBITEwkbaUncVGoDHcCil/mF198gYhifnDixInUjQ7lspnaWoyNRQBUKFCtxoGXDqipwW3bMCioWowjuLm5aTSa2tranq80vmo7PDz8Ks0t0U1NTYcOHQoODgaAVatWUTRhgrg0tLS0lLqhwMBAALh48SIi5uTkAMCcOXOoGx3i9Vh6PWq1aG2NABgSgleu9PP6f/8bn3sObWwQAAFw1aq39+7d2++m6OzZsxMmTAAAR0fHtLRDQ+tqT7du3froo4+WLl06atQosdW0s7NTKBRJSUmyFdjo7OwcOXKkUqmU4S4aMdksbmjbv3+/PN+iYV3ol5+Pvr4IgLa22GtZCr0es7IwNhYVCgRApRJjY/Hem3j7UV9fHx8fr1AoZ8y4kZCAw7lou6SkZPv27XPnzhXnBwaBgYEbNmywtbUFgClTphjvlOmI4x53d3fqhsTEia2trXi4bds2AHj99dep2x3uFaQ6Ha5e3bUdOnz41+ebmzElBR9+uOu/7OwwMRGHfF9xSkq+rS0C4JQpONj1np+PajW6upYCRHU7vnR2dt65c2d7ezsiFhYWTpkyRawDGYq35OXlAUBYWJjhmc7OzpiYGMmbvnz5MgD4+vqKh0lJSQAgwweU5tLkDz/EFSvwH//A1asREZ99tuseQQD09ESNBod/Hex//oNBQQiANja9bx2NtbfjV19hUhJ6eXV1AwABWgG6ToVUKtXLL7/c7XbnpqYmw8W71MVb3n//fQCIjo42PHPw4EHRdHx8fH19vVQNffXVVwAwb9488XDp0qUAkJaWJtXy+yLlNe+7d+OiRVhSgs8+i4j4/PN44ABKOOLV3IxqdVdKli7tJawNDXjgAD79NDo5GefJ+OdNAJg7d66JQbLU1FQxp+bt7X1W6rsaOzs7s7KyYmNjFQqFl5eXlZWV8a0NaWlpoizRhAkTzpw5I0mL2dnZ06ZNW7dunXgYHh4OAKaLe0lC4mClp+Nrr3UFi0h6elduvLzQ+FT9669/PTno68fZ+c1eb2zvprS0dObMmSBp8RadTpecnGxcs9RQX3nZsmV37twRL7t+/bq4H5qoboyo7FBRUSHtYnuSOFinT+Mf/oBLlki41F6UlHTdJj1iBBoqfT73nKlI2dqiRoM63UDvUmxrazMUb4mOjr5x48aQeytqlopqC3BvzdKDBw+K58ePH3/q1CnxeuO6MVFRUVVVVUNuupu2tjalUqlSqTok3I/0QeJgZWdjURGOHSvhUnvX3o4aDTo44JYtXQd2UVF9pio2Fk0Wd+nT8ePHxcVxbm5uR48eHezbe63w0X7vLbiGuTKxiTKs8qysLHGdlqur65EjR4bS+x5KS0tFiCVZmmkS31fo4IBOTvKVDq2p+fXA7pln0M+ve6T8/XHwebjHzZs3Fy5caJgGGEgtmsFWW+irtFV1dfWiRYsG1XRfRM1SPz8/d3d3BwcHqZJqgpTBqqtDALS3l3CR/TM+sNu589dIjR6Nu3ZJc+ogpgFGjhwJANOnTzdR2qpbtYVB1Sw9ceKEKA0yduxYMf3Srenw8PAh3E9bVVX1xhtvGGqWOjg4AIBSqdy0aVM7ZfkCKYNVWIgAGBAg4SL7Z3xg19iIM2agUokxMRIMcHRz7ty5iRMniuPuTz/9tNv/SlJtoaamJiYmpuckaV5eno+Pj4jFJ598MsClFRQUGNcsDQkJSUlJaW1tNf6S0N35LWWwjh5FAOytGBghESzjAzu6WZm6uroVK1aI9ZSQkCByY1yzVBxIDadmqfEkaWhoqKG01Z07d8QQFACYHgQZSM3SvLw88SUZVFIHRcpg/fOfCIC//72Ei7Q4er1+x44dYhLdx8fH399frL9Ro0atXbtWqpql33333UMPPQQA9vb2+/btMzy/a9euF154oa93NTQ07Nmzx9AlUbO0r0nuurq6lStXdvuSSEjKYG3ZggD4y/VkMtm9G0VduyeekK/RwsLCqVOnii+9qFna6zUaw6HT6VavXm1Y8ab/wkVpaalxzVLjEQ3Tdu7cKfaVQUFBdyT6VghSBmvNGgTADz6QcJH9M0uwELGhoaGsrCwjI4O0ZqmhtNXkyZN7LW01kL/CYtqPP/4YGBj45/DwPi8lGBIpg7V4MQLgLyc0Mtm9G2Njcf16fPhhWduVzaVLl8QVY9bW1ob5n4HULB24xsbGlpde6jqdXrkS6+qG320pgxUYiAB48aKEi+yfubZYchKlrcRfuFi8ePGbb75puKHIxcVl8+bNw5kY+NWBA/jAA12TZd98M8yFSRmsiIhcT8+fpD7Y6Mf/Q7AE8adNDHu9of0Vln6UluKjj3ZNlmk0OIyZSgVKdBvq3bt37ezsbGxsmpqaxHeLSa6srOzMmTPnz5+PiYmJiooi+T13dMBf/gJbt4JeD/Pnw/794OExhMVIFqwrV674+/v7+voWFRVJskBmTocPw+9+B7W18OCDcOUK/HIN98BJVsbIXDdRMRIxMVBYCIsWwbp1oNNBfDy8+CK89x4AwAcfwGefAQDExppYgGTlKDhY9xtXVzh8GADgr3+FxESYPx+efBJeemmA7+Zgsb4plQAA5eUwfjwAgIcHVFcDAPzrX5CTA6Wlpt4qVR/MVbuMkRs/HsrKAABu3uw6kH/+edBqYeJEE2/iLRbrz5o18OqrkJYG8+YN/ChesrPCkJCQgoKC8+fPh4aGSrJA9j+NzwoZCWl2hYi4cuXK8vJyUSKHMcl2hYwZs5Q67+w+w8FiJDhYjAQHi5HgYDESHCxGgoPFSHCwGAkOFiPBwWIkOFiMBAeLkeBgMRIcLEaCg8VIcLAYCQ4WI8HBYiQ4WIwEB4uR4GAxEhwsRoKDxUhwsBgJDhYjwcFiJDhYjAQHi5HgYDESHCxGgoPFSHCwGAkOFiPBwWIkOFiMBAeLkeBgMRIcLEaCg8VIcLAYCQ4WI8HBYiQ4WIwEB4uR4GAxEhwsRoKDxUhwsBgJDhYjwcFiJDhYjAQHi5HgYDESHCxGgoPFSHCwGAkOFiPBwWIkOFiMBAeLkeBgMRIcLEaCg8VIcLAYCQ4WI8HBYiQ4WIwEB4uR4GAxEv8FBfPtmz34U0IAAAAASUVORK5CYII=\" alt=\"Mol\"/></td>\n",
              "    </tr>\n",
              "    <tr>\n",
              "      <th>4</th>\n",
              "      <td>CHEMBL449941</td>\n",
              "      <td>CCN(CCCCCCN1CCN(CCCCCCN(CC)Cc2ccccc2OC)C1=O)Cc...</td>\n",
              "      <td>72.40</td>\n",
              "      <td>CHEMBL1152287</td>\n",
              "      <td>\\n     RDKit          2D\\n\\n 42 44  0  0  0  0...</td>\n",
              "      <td><img data-content=\"rdkit/molecule\" src=\"data:image/png;base64,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\" alt=\"Mol\"/></td>\n",
              "    </tr>\n",
              "    <tr>\n",
              "      <th>...</th>\n",
              "      <td>...</td>\n",
              "      <td>...</td>\n",
              "      <td>...</td>\n",
              "      <td>...</td>\n",
              "      <td>...</td>\n",
              "      <td>...</td>\n",
              "    </tr>\n",
              "    <tr>\n",
              "      <th>137</th>\n",
              "      <td>CHEMBL3902949</td>\n",
              "      <td>CCN(C)C(=O)Nc1cccc(NC(=O)/C=C/c2ccc(O)c(O)c2)c1</td>\n",
              "      <td>18.37</td>\n",
              "      <td>CHEMBL3877280</td>\n",
              "      <td>\\n     RDKit          2D\\n\\n 26 27  0  0  0  0...</td>\n",
              "      <td><img data-content=\"rdkit/molecule\" src=\"data:image/png;base64,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\" alt=\"Mol\"/></td>\n",
              "    </tr>\n",
              "    <tr>\n",
              "      <th>138</th>\n",
              "      <td>CHEMBL3786937</td>\n",
              "      <td>CN(C)C(=O)N[C@H]1CCc2c(O)cccc2C1</td>\n",
              "      <td>1.59</td>\n",
              "      <td>CHEMBL3784977</td>\n",
              "      <td>\\n     RDKit          2D\\n\\n 17 18  0  0  0  0...</td>\n",
              "      <td><img data-content=\"rdkit/molecule\" src=\"data:image/png;base64,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\" alt=\"Mol\"/></td>\n",
              "    </tr>\n",
              "    <tr>\n",
              "      <th>139</th>\n",
              "      <td>CHEMBL4081013</td>\n",
              "      <td>NC(=O)Nc1nc(NCc2ccccc2)c2ccccc2n1</td>\n",
              "      <td>8300.00</td>\n",
              "      <td>CHEMBL4002588</td>\n",
              "      <td>\\n     RDKit          2D\\n\\n 22 24  0  0  0  0...</td>\n",
              "      <td><img data-content=\"rdkit/molecule\" src=\"data:image/png;base64,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\" alt=\"Mol\"/></td>\n",
              "    </tr>\n",
              "    <tr>\n",
              "      <th>140</th>\n",
              "      <td>CHEMBL4070380</td>\n",
              "      <td>NC(=O)Nc1nc(NCCc2ccccc2)c2ccccc2n1</td>\n",
              "      <td>7900.00</td>\n",
              "      <td>CHEMBL4002588</td>\n",
              "      <td>\\n     RDKit          2D\\n\\n 23 25  0  0  0  0...</td>\n",
              "      <td><img data-content=\"rdkit/molecule\" src=\"data:image/png;base64,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\" alt=\"Mol\"/></td>\n",
              "    </tr>\n",
              "    <tr>\n",
              "      <th>141</th>\n",
              "      <td>CHEMBL4099046</td>\n",
              "      <td>COc1ccc(CCNc2nc(NC(N)=O)nc3ccccc23)cc1OC</td>\n",
              "      <td>8700.00</td>\n",
              "      <td>CHEMBL4002588</td>\n",
              "      <td>\\n     RDKit          2D\\n\\n 27 29  0  0  0  0...</td>\n",
              "      <td><img data-content=\"rdkit/molecule\" src=\"data:image/png;base64,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\" alt=\"Mol\"/></td>\n",
              "    </tr>\n",
              "  </tbody>\n",
              "</table>\n",
              "<p>142 rows × 6 columns</p>\n",
              "</div>"
            ],
            "text/plain": [
              "    Molecule ChEMBL ID  ...                                           Molecule\n",
              "0         CHEMBL122983  ...  <img data-content=\"rdkit/molecule\" src=\"data:i...\n",
              "1        CHEMBL3902949  ...  <img data-content=\"rdkit/molecule\" src=\"data:i...\n",
              "2        CHEMBL3785391  ...  <img data-content=\"rdkit/molecule\" src=\"data:i...\n",
              "3        CHEMBL3785207  ...  <img data-content=\"rdkit/molecule\" src=\"data:i...\n",
              "4         CHEMBL449941  ...  <img data-content=\"rdkit/molecule\" src=\"data:i...\n",
              "..                 ...  ...                                                ...\n",
              "137      CHEMBL3902949  ...  <img data-content=\"rdkit/molecule\" src=\"data:i...\n",
              "138      CHEMBL3786937  ...  <img data-content=\"rdkit/molecule\" src=\"data:i...\n",
              "139      CHEMBL4081013  ...  <img data-content=\"rdkit/molecule\" src=\"data:i...\n",
              "140      CHEMBL4070380  ...  <img data-content=\"rdkit/molecule\" src=\"data:i...\n",
              "141      CHEMBL4099046  ...  <img data-content=\"rdkit/molecule\" src=\"data:i...\n",
              "\n",
              "[142 rows x 6 columns]"
            ]
          },
          "metadata": {
            "tags": []
          },
          "execution_count": 15
        }
      ]
    }
  ]
}